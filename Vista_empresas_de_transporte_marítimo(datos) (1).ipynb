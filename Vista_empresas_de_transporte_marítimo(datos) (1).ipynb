{
  "nbformat": 4,
  "nbformat_minor": 0,
  "metadata": {
    "colab": {
      "provenance": []
    },
    "kernelspec": {
      "name": "python3",
      "display_name": "Python 3"
    },
    "language_info": {
      "name": "python"
    }
  },
  "cells": [
    {
      "cell_type": "code",
      "source": [
        "# Todas las librerias necesarias\n",
        "import pandas as pd\n",
        "import matplotlib.pyplot as plt\n",
        "import numpy as np\n",
        "import requests\n",
        "import seaborn as sns\n",
        "%matplotlib inline"
      ],
      "metadata": {
        "id": "iwb9DSaiI9Qt"
      },
      "execution_count": 1,
      "outputs": []
    },
    {
      "cell_type": "code",
      "source": [
        "# Instalar pep8\n",
        "!pip install pycodestyle\n",
        "!pip install --index-url https://test.pypi.org/simple/ nbpep8"
      ],
      "metadata": {
        "colab": {
          "base_uri": "https://localhost:8080/"
        },
        "id": "B0laEjDzG2CF",
        "outputId": "f6df489c-2a12-40f9-f17c-3c2350441a7b"
      },
      "execution_count": 2,
      "outputs": [
        {
          "output_type": "stream",
          "name": "stdout",
          "text": [
            "Collecting pycodestyle\n",
            "  Downloading pycodestyle-2.11.1-py2.py3-none-any.whl (31 kB)\n",
            "Installing collected packages: pycodestyle\n",
            "Successfully installed pycodestyle-2.11.1\n",
            "Looking in indexes: https://test.pypi.org/simple/\n",
            "Collecting nbpep8\n",
            "  Downloading https://test-files.pythonhosted.org/packages/c1/07/6b91c986efe7c3adac9e2ec061037f0cc4307925819d37277c3802c2d117/nbpep8-0.0.15-py3-none-any.whl (3.2 kB)\n",
            "Installing collected packages: nbpep8\n",
            "Successfully installed nbpep8-0.0.15\n"
          ]
        }
      ]
    },
    {
      "cell_type": "code",
      "source": [
        "from nbpep8.nbpep8 import pep8"
      ],
      "metadata": {
        "id": "hclJZxnFdxza"
      },
      "execution_count": 3,
      "outputs": []
    },
    {
      "cell_type": "code",
      "source": [
        "# URL del archivo Excel\n",
        "ruta = \"https://github.com/SMOLINAV/datosmaritimos/raw/ee3477aedca57e536842ed6889859d3d7d844127/Empresas_de_Transporte_Mar_timo_habilitadas_y_con_permiso_de__operaci_n_20240408.xlsx\"\n",
        "\n",
        "# Realizar la solicitud HTTP para obtener el archivo Excel\n",
        "response = requests.get(ruta)\n",
        "\n",
        "# Verificar si la solicitud fue exitosa\n",
        "if response.status_code == 200:\n",
        "    # Leer el archivo Excel especificando el motor 'openpyxl'\n",
        "    datos = pd.read_excel(response.content, engine='openpyxl')\n",
        "    # Imprimir las primeras filas del DataFrame\n",
        "    print(datos.head())\n",
        "else:\n",
        "    print(\"Error al cargar el archivo:\", response.status_code)"
      ],
      "metadata": {
        "colab": {
          "base_uri": "https://localhost:8080/"
        },
        "id": "7p5m0n0NJGgc",
        "outputId": "a3404da8-f8fa-4339-e51f-a45c7e9bd474"
      },
      "execution_count": 5,
      "outputs": [
        {
          "output_type": "stream",
          "name": "stdout",
          "text": [
            "                     empresa_de_transporte_marítimo  \\\n",
            "0  ABBAS CARGO AGENCIES SERVICES GROUP COLOMBIA SAS   \n",
            "1                             ABELARDO MINA MURILLO   \n",
            "2                 ADIELA GUMERSINDA REALPE VALENCIA   \n",
            "3                 ADIELA GUMERSINDA REALPE VALENCIA   \n",
            "4              ADUACARGA INTERNATIONAL LOGISTICS SA   \n",
            "\n",
            "                             Nombre                 dirección_empresa  \\\n",
            "0          RUJANA DUQUE EDIN ALBERTO  CALLE 93 BIS #19-40 OFICINA 202   \n",
            "1              ABELARDO MINA MURILLO                    CALLE 3 5A 13   \n",
            "2  ADIELA GUMERSINDA REALPE VALENCIA         PUERTO PALMA LOCAL 4C-29   \n",
            "3  ADIELA GUMERSINDA REALPE VALENCIA         PUERTO PALMA LOCAL 4C-29   \n",
            "4      DORA MARIELA RODRIGUEZ GARZON                CALLE 142 51 A 23   \n",
            "\n",
            "  telefono_empresa        Ciudad        tipo_de_empresa  \n",
            "0          4839605        Bogotá  INTERNACIONAL PUBLICO  \n",
            "1       241 188 47  Buenaventura       CABOTAJE PUBLICO  \n",
            "2       3127170714        Tumaco  INTERNACIONAL PUBLICO  \n",
            "3       3127170714        Tumaco       CABOTAJE PUBLICO  \n",
            "4        429 58 11        Bogotá  INTERNACIONAL PUBLICO  \n"
          ]
        }
      ]
    },
    {
      "cell_type": "code",
      "source": [
        "datos"
      ],
      "metadata": {
        "colab": {
          "base_uri": "https://localhost:8080/",
          "height": 424
        },
        "id": "kAG1gjn5LvDM",
        "outputId": "04df2433-9654-46da-d37a-8c29063c5bd6"
      },
      "execution_count": 6,
      "outputs": [
        {
          "output_type": "execute_result",
          "data": {
            "text/plain": [
              "                        empresa_de_transporte_marítimo  \\\n",
              "0     ABBAS CARGO AGENCIES SERVICES GROUP COLOMBIA SAS   \n",
              "1                                ABELARDO MINA MURILLO   \n",
              "2                    ADIELA GUMERSINDA REALPE VALENCIA   \n",
              "3                    ADIELA GUMERSINDA REALPE VALENCIA   \n",
              "4                 ADUACARGA INTERNATIONAL LOGISTICS SA   \n",
              "..                                                 ...   \n",
              "933                   X-PRESS CONTAINER LINE PANAMA SA   \n",
              "934             YANG MING MARINE TRANSPORT CORPORATION   \n",
              "935  ZEAMARINE AMERICAS, LLC (EX INDUSTRIAL MARITIM...   \n",
              "936              ZIM INTEGRATED SHIPPING SERVICES LTDA   \n",
              "937                            ZOOM OCEAN FREIGHT, LLC   \n",
              "\n",
              "                               Nombre   \\\n",
              "0            RUJANA DUQUE EDIN ALBERTO   \n",
              "1                ABELARDO MINA MURILLO   \n",
              "2    ADIELA GUMERSINDA REALPE VALENCIA   \n",
              "3    ADIELA GUMERSINDA REALPE VALENCIA   \n",
              "4        DORA MARIELA RODRIGUEZ GARZON   \n",
              "..                                 ...   \n",
              "933     ROWLAND ANTHONY FAUQUIER SWAIN   \n",
              "934  GOMEZ ARIZA CABRALES MARIA ELVIRA   \n",
              "935                     ROGER KAVANAGH   \n",
              "936  AGENCIA MARÍTIMA TRANSMARES S.A.S   \n",
              "937      FABIO ALONSO RODRIGUEZ ORTEGA   \n",
              "\n",
              "                                     dirección_empresa  \\\n",
              "0                      CALLE 93 BIS #19-40 OFICINA 202   \n",
              "1                                        CALLE 3 5A 13   \n",
              "2                             PUERTO PALMA LOCAL 4C-29   \n",
              "3                             PUERTO PALMA LOCAL 4C-29   \n",
              "4                                    CALLE 142 51 A 23   \n",
              "..                                                 ...   \n",
              "933                     CARRERA 12 # 90-20 OFICINA 203   \n",
              "934                       CALLE 94 # 11-20 OFICINA 202   \n",
              "935                            CARRERA 12 79 32 PISO 4   \n",
              "936  CR 1 10A 12 OF 204 ED SOCIEDAD PORTUARIA TERMINAL   \n",
              "937    CARRERA 3 # 6A-100 OFICINA 1101 T.E. PROTECCION   \n",
              "\n",
              "              telefono_empresa        Ciudad        tipo_de_empresa  \n",
              "0                      4839605        Bogotá  INTERNACIONAL PUBLICO  \n",
              "1                   241 188 47  Buenaventura       CABOTAJE PUBLICO  \n",
              "2                   3127170714        Tumaco  INTERNACIONAL PUBLICO  \n",
              "3                   3127170714        Tumaco       CABOTAJE PUBLICO  \n",
              "4                    429 58 11        Bogotá  INTERNACIONAL PUBLICO  \n",
              "..                         ...           ...                    ...  \n",
              "933                    6469700        Bogotá  INTERNACIONAL PUBLICO  \n",
              "934                    6354640        Bogotá  INTERNACIONAL PUBLICO  \n",
              "935                  317 24 00        Bogotá  INTERNACIONAL PUBLICO  \n",
              "936  (095) 421-2429 / 423-6018   Santa Marta  INTERNACIONAL PUBLICO  \n",
              "937           6650505 - 640000     Cartagena  INTERNACIONAL PUBLICO  \n",
              "\n",
              "[938 rows x 6 columns]"
            ],
            "text/html": [
              "\n",
              "  <div id=\"df-66d2c6c7-304f-4245-a0e9-7b2dbe3aa99e\" class=\"colab-df-container\">\n",
              "    <div>\n",
              "<style scoped>\n",
              "    .dataframe tbody tr th:only-of-type {\n",
              "        vertical-align: middle;\n",
              "    }\n",
              "\n",
              "    .dataframe tbody tr th {\n",
              "        vertical-align: top;\n",
              "    }\n",
              "\n",
              "    .dataframe thead th {\n",
              "        text-align: right;\n",
              "    }\n",
              "</style>\n",
              "<table border=\"1\" class=\"dataframe\">\n",
              "  <thead>\n",
              "    <tr style=\"text-align: right;\">\n",
              "      <th></th>\n",
              "      <th>empresa_de_transporte_marítimo</th>\n",
              "      <th>Nombre</th>\n",
              "      <th>dirección_empresa</th>\n",
              "      <th>telefono_empresa</th>\n",
              "      <th>Ciudad</th>\n",
              "      <th>tipo_de_empresa</th>\n",
              "    </tr>\n",
              "  </thead>\n",
              "  <tbody>\n",
              "    <tr>\n",
              "      <th>0</th>\n",
              "      <td>ABBAS CARGO AGENCIES SERVICES GROUP COLOMBIA SAS</td>\n",
              "      <td>RUJANA DUQUE EDIN ALBERTO</td>\n",
              "      <td>CALLE 93 BIS #19-40 OFICINA 202</td>\n",
              "      <td>4839605</td>\n",
              "      <td>Bogotá</td>\n",
              "      <td>INTERNACIONAL PUBLICO</td>\n",
              "    </tr>\n",
              "    <tr>\n",
              "      <th>1</th>\n",
              "      <td>ABELARDO MINA MURILLO</td>\n",
              "      <td>ABELARDO MINA MURILLO</td>\n",
              "      <td>CALLE 3 5A 13</td>\n",
              "      <td>241 188 47</td>\n",
              "      <td>Buenaventura</td>\n",
              "      <td>CABOTAJE PUBLICO</td>\n",
              "    </tr>\n",
              "    <tr>\n",
              "      <th>2</th>\n",
              "      <td>ADIELA GUMERSINDA REALPE VALENCIA</td>\n",
              "      <td>ADIELA GUMERSINDA REALPE VALENCIA</td>\n",
              "      <td>PUERTO PALMA LOCAL 4C-29</td>\n",
              "      <td>3127170714</td>\n",
              "      <td>Tumaco</td>\n",
              "      <td>INTERNACIONAL PUBLICO</td>\n",
              "    </tr>\n",
              "    <tr>\n",
              "      <th>3</th>\n",
              "      <td>ADIELA GUMERSINDA REALPE VALENCIA</td>\n",
              "      <td>ADIELA GUMERSINDA REALPE VALENCIA</td>\n",
              "      <td>PUERTO PALMA LOCAL 4C-29</td>\n",
              "      <td>3127170714</td>\n",
              "      <td>Tumaco</td>\n",
              "      <td>CABOTAJE PUBLICO</td>\n",
              "    </tr>\n",
              "    <tr>\n",
              "      <th>4</th>\n",
              "      <td>ADUACARGA INTERNATIONAL LOGISTICS SA</td>\n",
              "      <td>DORA MARIELA RODRIGUEZ GARZON</td>\n",
              "      <td>CALLE 142 51 A 23</td>\n",
              "      <td>429 58 11</td>\n",
              "      <td>Bogotá</td>\n",
              "      <td>INTERNACIONAL PUBLICO</td>\n",
              "    </tr>\n",
              "    <tr>\n",
              "      <th>...</th>\n",
              "      <td>...</td>\n",
              "      <td>...</td>\n",
              "      <td>...</td>\n",
              "      <td>...</td>\n",
              "      <td>...</td>\n",
              "      <td>...</td>\n",
              "    </tr>\n",
              "    <tr>\n",
              "      <th>933</th>\n",
              "      <td>X-PRESS CONTAINER LINE PANAMA SA</td>\n",
              "      <td>ROWLAND ANTHONY FAUQUIER SWAIN</td>\n",
              "      <td>CARRERA 12 # 90-20 OFICINA 203</td>\n",
              "      <td>6469700</td>\n",
              "      <td>Bogotá</td>\n",
              "      <td>INTERNACIONAL PUBLICO</td>\n",
              "    </tr>\n",
              "    <tr>\n",
              "      <th>934</th>\n",
              "      <td>YANG MING MARINE TRANSPORT CORPORATION</td>\n",
              "      <td>GOMEZ ARIZA CABRALES MARIA ELVIRA</td>\n",
              "      <td>CALLE 94 # 11-20 OFICINA 202</td>\n",
              "      <td>6354640</td>\n",
              "      <td>Bogotá</td>\n",
              "      <td>INTERNACIONAL PUBLICO</td>\n",
              "    </tr>\n",
              "    <tr>\n",
              "      <th>935</th>\n",
              "      <td>ZEAMARINE AMERICAS, LLC (EX INDUSTRIAL MARITIM...</td>\n",
              "      <td>ROGER KAVANAGH</td>\n",
              "      <td>CARRERA 12 79 32 PISO 4</td>\n",
              "      <td>317 24 00</td>\n",
              "      <td>Bogotá</td>\n",
              "      <td>INTERNACIONAL PUBLICO</td>\n",
              "    </tr>\n",
              "    <tr>\n",
              "      <th>936</th>\n",
              "      <td>ZIM INTEGRATED SHIPPING SERVICES LTDA</td>\n",
              "      <td>AGENCIA MARÍTIMA TRANSMARES S.A.S</td>\n",
              "      <td>CR 1 10A 12 OF 204 ED SOCIEDAD PORTUARIA TERMINAL</td>\n",
              "      <td>(095) 421-2429 / 423-6018</td>\n",
              "      <td>Santa Marta</td>\n",
              "      <td>INTERNACIONAL PUBLICO</td>\n",
              "    </tr>\n",
              "    <tr>\n",
              "      <th>937</th>\n",
              "      <td>ZOOM OCEAN FREIGHT, LLC</td>\n",
              "      <td>FABIO ALONSO RODRIGUEZ ORTEGA</td>\n",
              "      <td>CARRERA 3 # 6A-100 OFICINA 1101 T.E. PROTECCION</td>\n",
              "      <td>6650505 - 640000</td>\n",
              "      <td>Cartagena</td>\n",
              "      <td>INTERNACIONAL PUBLICO</td>\n",
              "    </tr>\n",
              "  </tbody>\n",
              "</table>\n",
              "<p>938 rows × 6 columns</p>\n",
              "</div>\n",
              "    <div class=\"colab-df-buttons\">\n",
              "\n",
              "  <div class=\"colab-df-container\">\n",
              "    <button class=\"colab-df-convert\" onclick=\"convertToInteractive('df-66d2c6c7-304f-4245-a0e9-7b2dbe3aa99e')\"\n",
              "            title=\"Convert this dataframe to an interactive table.\"\n",
              "            style=\"display:none;\">\n",
              "\n",
              "  <svg xmlns=\"http://www.w3.org/2000/svg\" height=\"24px\" viewBox=\"0 -960 960 960\">\n",
              "    <path d=\"M120-120v-720h720v720H120Zm60-500h600v-160H180v160Zm220 220h160v-160H400v160Zm0 220h160v-160H400v160ZM180-400h160v-160H180v160Zm440 0h160v-160H620v160ZM180-180h160v-160H180v160Zm440 0h160v-160H620v160Z\"/>\n",
              "  </svg>\n",
              "    </button>\n",
              "\n",
              "  <style>\n",
              "    .colab-df-container {\n",
              "      display:flex;\n",
              "      gap: 12px;\n",
              "    }\n",
              "\n",
              "    .colab-df-convert {\n",
              "      background-color: #E8F0FE;\n",
              "      border: none;\n",
              "      border-radius: 50%;\n",
              "      cursor: pointer;\n",
              "      display: none;\n",
              "      fill: #1967D2;\n",
              "      height: 32px;\n",
              "      padding: 0 0 0 0;\n",
              "      width: 32px;\n",
              "    }\n",
              "\n",
              "    .colab-df-convert:hover {\n",
              "      background-color: #E2EBFA;\n",
              "      box-shadow: 0px 1px 2px rgba(60, 64, 67, 0.3), 0px 1px 3px 1px rgba(60, 64, 67, 0.15);\n",
              "      fill: #174EA6;\n",
              "    }\n",
              "\n",
              "    .colab-df-buttons div {\n",
              "      margin-bottom: 4px;\n",
              "    }\n",
              "\n",
              "    [theme=dark] .colab-df-convert {\n",
              "      background-color: #3B4455;\n",
              "      fill: #D2E3FC;\n",
              "    }\n",
              "\n",
              "    [theme=dark] .colab-df-convert:hover {\n",
              "      background-color: #434B5C;\n",
              "      box-shadow: 0px 1px 3px 1px rgba(0, 0, 0, 0.15);\n",
              "      filter: drop-shadow(0px 1px 2px rgba(0, 0, 0, 0.3));\n",
              "      fill: #FFFFFF;\n",
              "    }\n",
              "  </style>\n",
              "\n",
              "    <script>\n",
              "      const buttonEl =\n",
              "        document.querySelector('#df-66d2c6c7-304f-4245-a0e9-7b2dbe3aa99e button.colab-df-convert');\n",
              "      buttonEl.style.display =\n",
              "        google.colab.kernel.accessAllowed ? 'block' : 'none';\n",
              "\n",
              "      async function convertToInteractive(key) {\n",
              "        const element = document.querySelector('#df-66d2c6c7-304f-4245-a0e9-7b2dbe3aa99e');\n",
              "        const dataTable =\n",
              "          await google.colab.kernel.invokeFunction('convertToInteractive',\n",
              "                                                    [key], {});\n",
              "        if (!dataTable) return;\n",
              "\n",
              "        const docLinkHtml = 'Like what you see? Visit the ' +\n",
              "          '<a target=\"_blank\" href=https://colab.research.google.com/notebooks/data_table.ipynb>data table notebook</a>'\n",
              "          + ' to learn more about interactive tables.';\n",
              "        element.innerHTML = '';\n",
              "        dataTable['output_type'] = 'display_data';\n",
              "        await google.colab.output.renderOutput(dataTable, element);\n",
              "        const docLink = document.createElement('div');\n",
              "        docLink.innerHTML = docLinkHtml;\n",
              "        element.appendChild(docLink);\n",
              "      }\n",
              "    </script>\n",
              "  </div>\n",
              "\n",
              "\n",
              "<div id=\"df-758d6465-5506-48e6-9dcc-a015161894f7\">\n",
              "  <button class=\"colab-df-quickchart\" onclick=\"quickchart('df-758d6465-5506-48e6-9dcc-a015161894f7')\"\n",
              "            title=\"Suggest charts\"\n",
              "            style=\"display:none;\">\n",
              "\n",
              "<svg xmlns=\"http://www.w3.org/2000/svg\" height=\"24px\"viewBox=\"0 0 24 24\"\n",
              "     width=\"24px\">\n",
              "    <g>\n",
              "        <path d=\"M19 3H5c-1.1 0-2 .9-2 2v14c0 1.1.9 2 2 2h14c1.1 0 2-.9 2-2V5c0-1.1-.9-2-2-2zM9 17H7v-7h2v7zm4 0h-2V7h2v10zm4 0h-2v-4h2v4z\"/>\n",
              "    </g>\n",
              "</svg>\n",
              "  </button>\n",
              "\n",
              "<style>\n",
              "  .colab-df-quickchart {\n",
              "      --bg-color: #E8F0FE;\n",
              "      --fill-color: #1967D2;\n",
              "      --hover-bg-color: #E2EBFA;\n",
              "      --hover-fill-color: #174EA6;\n",
              "      --disabled-fill-color: #AAA;\n",
              "      --disabled-bg-color: #DDD;\n",
              "  }\n",
              "\n",
              "  [theme=dark] .colab-df-quickchart {\n",
              "      --bg-color: #3B4455;\n",
              "      --fill-color: #D2E3FC;\n",
              "      --hover-bg-color: #434B5C;\n",
              "      --hover-fill-color: #FFFFFF;\n",
              "      --disabled-bg-color: #3B4455;\n",
              "      --disabled-fill-color: #666;\n",
              "  }\n",
              "\n",
              "  .colab-df-quickchart {\n",
              "    background-color: var(--bg-color);\n",
              "    border: none;\n",
              "    border-radius: 50%;\n",
              "    cursor: pointer;\n",
              "    display: none;\n",
              "    fill: var(--fill-color);\n",
              "    height: 32px;\n",
              "    padding: 0;\n",
              "    width: 32px;\n",
              "  }\n",
              "\n",
              "  .colab-df-quickchart:hover {\n",
              "    background-color: var(--hover-bg-color);\n",
              "    box-shadow: 0 1px 2px rgba(60, 64, 67, 0.3), 0 1px 3px 1px rgba(60, 64, 67, 0.15);\n",
              "    fill: var(--button-hover-fill-color);\n",
              "  }\n",
              "\n",
              "  .colab-df-quickchart-complete:disabled,\n",
              "  .colab-df-quickchart-complete:disabled:hover {\n",
              "    background-color: var(--disabled-bg-color);\n",
              "    fill: var(--disabled-fill-color);\n",
              "    box-shadow: none;\n",
              "  }\n",
              "\n",
              "  .colab-df-spinner {\n",
              "    border: 2px solid var(--fill-color);\n",
              "    border-color: transparent;\n",
              "    border-bottom-color: var(--fill-color);\n",
              "    animation:\n",
              "      spin 1s steps(1) infinite;\n",
              "  }\n",
              "\n",
              "  @keyframes spin {\n",
              "    0% {\n",
              "      border-color: transparent;\n",
              "      border-bottom-color: var(--fill-color);\n",
              "      border-left-color: var(--fill-color);\n",
              "    }\n",
              "    20% {\n",
              "      border-color: transparent;\n",
              "      border-left-color: var(--fill-color);\n",
              "      border-top-color: var(--fill-color);\n",
              "    }\n",
              "    30% {\n",
              "      border-color: transparent;\n",
              "      border-left-color: var(--fill-color);\n",
              "      border-top-color: var(--fill-color);\n",
              "      border-right-color: var(--fill-color);\n",
              "    }\n",
              "    40% {\n",
              "      border-color: transparent;\n",
              "      border-right-color: var(--fill-color);\n",
              "      border-top-color: var(--fill-color);\n",
              "    }\n",
              "    60% {\n",
              "      border-color: transparent;\n",
              "      border-right-color: var(--fill-color);\n",
              "    }\n",
              "    80% {\n",
              "      border-color: transparent;\n",
              "      border-right-color: var(--fill-color);\n",
              "      border-bottom-color: var(--fill-color);\n",
              "    }\n",
              "    90% {\n",
              "      border-color: transparent;\n",
              "      border-bottom-color: var(--fill-color);\n",
              "    }\n",
              "  }\n",
              "</style>\n",
              "\n",
              "  <script>\n",
              "    async function quickchart(key) {\n",
              "      const quickchartButtonEl =\n",
              "        document.querySelector('#' + key + ' button');\n",
              "      quickchartButtonEl.disabled = true;  // To prevent multiple clicks.\n",
              "      quickchartButtonEl.classList.add('colab-df-spinner');\n",
              "      try {\n",
              "        const charts = await google.colab.kernel.invokeFunction(\n",
              "            'suggestCharts', [key], {});\n",
              "      } catch (error) {\n",
              "        console.error('Error during call to suggestCharts:', error);\n",
              "      }\n",
              "      quickchartButtonEl.classList.remove('colab-df-spinner');\n",
              "      quickchartButtonEl.classList.add('colab-df-quickchart-complete');\n",
              "    }\n",
              "    (() => {\n",
              "      let quickchartButtonEl =\n",
              "        document.querySelector('#df-758d6465-5506-48e6-9dcc-a015161894f7 button');\n",
              "      quickchartButtonEl.style.display =\n",
              "        google.colab.kernel.accessAllowed ? 'block' : 'none';\n",
              "    })();\n",
              "  </script>\n",
              "</div>\n",
              "    </div>\n",
              "  </div>\n"
            ],
            "application/vnd.google.colaboratory.intrinsic+json": {
              "type": "dataframe",
              "variable_name": "datos",
              "summary": "{\n  \"name\": \"datos\",\n  \"rows\": 938,\n  \"fields\": [\n    {\n      \"column\": \"empresa_de_transporte_mar\\u00edtimo\",\n      \"properties\": {\n        \"dtype\": \"category\",\n        \"num_unique_values\": 388,\n        \"samples\": [\n          \"NORMAN EULOGIO DOWNS MORGAN\",\n          \"BRASVEN MARITIMA S A\",\n          \"HAPAG LLOYD AG\"\n        ],\n        \"semantic_type\": \"\",\n        \"description\": \"\"\n      }\n    },\n    {\n      \"column\": \"Nombre \",\n      \"properties\": {\n        \"dtype\": \"category\",\n        \"num_unique_values\": 344,\n        \"samples\": [\n          \"KENERTH RODRIGUEZ PEREA\",\n          \"BAERBEL KRAEMER\",\n          \"GIAN LUGI APONTE\"\n        ],\n        \"semantic_type\": \"\",\n        \"description\": \"\"\n      }\n    },\n    {\n      \"column\": \"direcci\\u00f3n_empresa\",\n      \"properties\": {\n        \"dtype\": \"category\",\n        \"num_unique_values\": 311,\n        \"samples\": [\n          \"CALLE 100 12 75 LOCAL 304 CENTRO COMERCIAL EL PIRA\",\n          \"KR 98 N. 25 G 64 OF 306\",\n          \"CENTRO COMERCIAL VALLE DE ATRIZ OFICINA 403 Y 407\"\n        ],\n        \"semantic_type\": \"\",\n        \"description\": \"\"\n      }\n    },\n    {\n      \"column\": \"telefono_empresa\",\n      \"properties\": {\n        \"dtype\": \"category\",\n        \"num_unique_values\": 302,\n        \"samples\": [\n          3155010275,\n          3113365142,\n          2966313\n        ],\n        \"semantic_type\": \"\",\n        \"description\": \"\"\n      }\n    },\n    {\n      \"column\": \"Ciudad\",\n      \"properties\": {\n        \"dtype\": \"category\",\n        \"num_unique_values\": 10,\n        \"samples\": [\n          \"Santa Marta\",\n          \"Buenaventura\",\n          \"Turbo\"\n        ],\n        \"semantic_type\": \"\",\n        \"description\": \"\"\n      }\n    },\n    {\n      \"column\": \"tipo_de_empresa\",\n      \"properties\": {\n        \"dtype\": \"category\",\n        \"num_unique_values\": 4,\n        \"samples\": [\n          \"CABOTAJE PUBLICO\",\n          \"INTERNACIONAL PRIVADO\",\n          \"INTERNACIONAL PUBLICO\"\n        ],\n        \"semantic_type\": \"\",\n        \"description\": \"\"\n      }\n    }\n  ]\n}"
            }
          },
          "metadata": {},
          "execution_count": 6
        }
      ]
    },
    {
      "cell_type": "code",
      "source": [
        "# Resumen estadístico\n",
        "resumen_estadistico = datos.describe()\n",
        "print(resumen_estadistico)\n",
        "pep8(_ih)"
      ],
      "metadata": {
        "colab": {
          "base_uri": "https://localhost:8080/"
        },
        "id": "MWgpqspqMXcH",
        "outputId": "71dfcd5a-27d9-4a45-cfaa-7edd07362f29"
      },
      "execution_count": 7,
      "outputs": [
        {
          "output_type": "stream",
          "name": "stdout",
          "text": [
            "       empresa_de_transporte_marítimo                            Nombre   \\\n",
            "count                             938                                938   \n",
            "unique                            388                                344   \n",
            "top           KENERTH RODRIGUEZ PEREA  GOMEZ ARIZA CABRALES MARIA ELVIRA   \n",
            "freq                                8                                 29   \n",
            "\n",
            "                   dirección_empresa  telefono_empresa  Ciudad  \\\n",
            "count                            936               936     936   \n",
            "unique                           311               302      10   \n",
            "top     CALLE 94 # 11-20 OFICINA 202           6354640  Bogotá   \n",
            "freq                              29                29     288   \n",
            "\n",
            "              tipo_de_empresa  \n",
            "count                     938  \n",
            "unique                      4  \n",
            "top     INTERNACIONAL PUBLICO  \n",
            "freq                      476  \n",
            "\n"
          ]
        }
      ]
    },
    {
      "cell_type": "code",
      "source": [
        "# Conteo de valores únicos\n",
        "valores_unicos = datos.nunique()\n",
        "print(valores_unicos)\n",
        "pep8(_ih)"
      ],
      "metadata": {
        "colab": {
          "base_uri": "https://localhost:8080/"
        },
        "id": "IUefFVJTMYC3",
        "outputId": "08723df8-fee0-4796-938e-f257c3187602"
      },
      "execution_count": 8,
      "outputs": [
        {
          "output_type": "stream",
          "name": "stdout",
          "text": [
            "empresa_de_transporte_marítimo    388\n",
            "Nombre                            344\n",
            "dirección_empresa                 311\n",
            "telefono_empresa                  302\n",
            "Ciudad                             10\n",
            "tipo_de_empresa                     4\n",
            "dtype: int64\n",
            "\n"
          ]
        }
      ]
    },
    {
      "cell_type": "code",
      "source": [
        "# Frecuencia de categorías\n",
        "frecuencia_categorias = datos['tipo_de_empresa'].value_counts()\n",
        "print(frecuencia_categorias)\n",
        "pep8(_ih)"
      ],
      "metadata": {
        "colab": {
          "base_uri": "https://localhost:8080/"
        },
        "id": "VGhIw0eaMbcp",
        "outputId": "9ea1b4d1-2e04-4b69-e18c-ec69e124c86e"
      },
      "execution_count": 9,
      "outputs": [
        {
          "output_type": "stream",
          "name": "stdout",
          "text": [
            "tipo_de_empresa\n",
            "INTERNACIONAL PUBLICO    476\n",
            "CABOTAJE PUBLICO         438\n",
            "CABOTAJE PRIVADO          18\n",
            "INTERNACIONAL PRIVADO      6\n",
            "Name: count, dtype: int64\n",
            "\n"
          ]
        }
      ]
    },
    {
      "cell_type": "code",
      "source": [
        "# Filtrar datos\n",
        "empresas_ciudad_especifica = datos[datos['Ciudad'] == 'Ciudad_especifica']\n",
        "print(empresas_ciudad_especifica)\n",
        "pep8(_ih)"
      ],
      "metadata": {
        "colab": {
          "base_uri": "https://localhost:8080/"
        },
        "id": "EeAXC1ECMdmW",
        "outputId": "ac532115-91b2-4b91-b00d-2564a333a58c"
      },
      "execution_count": 10,
      "outputs": [
        {
          "output_type": "stream",
          "name": "stdout",
          "text": [
            "Empty DataFrame\n",
            "Columns: [empresa_de_transporte_marítimo, Nombre , dirección_empresa, telefono_empresa, Ciudad, tipo_de_empresa]\n",
            "Index: []\n",
            "\n"
          ]
        }
      ]
    },
    {
      "cell_type": "code",
      "source": [
        "# Convertir la columna 'telefono_empresa' a numérica\n",
        "datos['telefono_empresa'] = pd.to_numeric(datos['telefono_empresa'],\n",
        "                                          errors='coerce')\n",
        "\n",
        "# Eliminar filas con valores nulos (NaN) en la columna 'telefono_empresa'\n",
        "datos = datos.dropna(subset=['telefono_empresa'])\n",
        "\n",
        "# Histograma de la columna 'telefono_empresa'\n",
        "datos['telefono_empresa'].hist()\n",
        "plt.title('Histograma de teléfonos de empresas')\n",
        "plt.xlabel('Teléfono')\n",
        "plt.ylabel('Frecuencia')\n",
        "plt.show()\n",
        "\n",
        "# Diagrama de barras de la frecuencia de cada tipo de empresa\n",
        "datos['tipo_de_empresa'].value_counts().plot(kind='bar')\n",
        "plt.title('Frecuencia de tipos de empresa')\n",
        "plt.xlabel('Tipo de empresa')\n",
        "plt.ylabel('Frecuencia')\n",
        "plt.show()\n",
        "pep8(_ih)"
      ],
      "metadata": {
        "colab": {
          "base_uri": "https://localhost:8080/",
          "height": 1000
        },
        "id": "UBl1xtEGMf_W",
        "outputId": "a84a9429-55b4-49b4-91f3-255824c39856"
      },
      "execution_count": 11,
      "outputs": [
        {
          "output_type": "display_data",
          "data": {
            "text/plain": [
              "<Figure size 640x480 with 1 Axes>"
            ],
            "image/png": "[encoded data removed]"
          },
          "metadata": {}
        },
        {
          "output_type": "display_data",
          "data": {
            "text/plain": [
              "<Figure size 640x480 with 1 Axes>"
            ],
            "image/png": "[encoded data removed]"
          },
          "metadata": {}
        },
        {
          "output_type": "stream",
          "name": "stdout",
          "text": [
            "\n"
          ]
        }
      ]
    }
  ]
}